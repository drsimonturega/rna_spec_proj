{
 "cells": [
  {
   "cell_type": "markdown",
   "metadata": {},
   "source": [
    "# Student database 003\n",
    "## For making data tables for ML models\n",
    "\n"
   ]
  },
  {
   "cell_type": "markdown",
   "metadata": {},
   "source": [
    "### Data base master conection"
   ]
  },
  {
   "cell_type": "code",
   "execution_count": 19,
   "metadata": {},
   "outputs": [
    {
     "name": "stdout",
     "output_type": "stream",
     "text": [
      "here is ['rnauvvis22train_II']\n"
     ]
    },
    {
     "data": {
      "text/plain": [
       "['rnauvvis22train_II']"
      ]
     },
     "execution_count": 19,
     "metadata": {},
     "output_type": "execute_result"
    }
   ],
   "source": [
    "from data_extraction import DataExtractor\n",
    "from data_cleaning import DataCleaning\n",
    "from database_utils import DatabaseConnector\n",
    "import numpy as np\n",
    "import pandas as pd\n",
    "from sqlalchemy import create_engine\n",
    "from sqlalchemy import inspect\n",
    "import yaml\n",
    "\n",
    "#Make master conection\n",
    "up_ld = DatabaseConnector()\n",
    "DatabaseConnector.read_db_creds(up_ld, 'db_creds.yaml')\n",
    "DatabaseConnector.list_db_tables(up_ld)"
   ]
  },
  {
   "cell_type": "code",
   "execution_count": 2,
   "metadata": {},
   "outputs": [
    {
     "data": {
      "text/plain": [
       "<sqlalchemy.engine.cursor.LegacyCursorResult at 0x7fbe68789ff0>"
      ]
     },
     "execution_count": 2,
     "metadata": {},
     "output_type": "execute_result"
    }
   ],
   "source": [
    "from sqlalchemy.sql import text, quoted_name\n",
    "\n",
    "DATABASE_USER = \"reshma\"\n",
    "DATABASE_USER_PASSWORD = \"hiGh_High_byE_Bye_24\"\n",
    "\n",
    "create_user_sql = text(f\"CREATE USER {quoted_name(DATABASE_USER, False)} WITH PASSWORD :database_password\")\n",
    "up_ld.engine.execute(create_user_sql, database_password=DATABASE_USER_PASSWORD)"
   ]
  },
  {
   "cell_type": "markdown",
   "metadata": {},
   "source": [
    "### Uploading initial data tables"
   ]
  },
  {
   "cell_type": "code",
   "execution_count": 9,
   "metadata": {},
   "outputs": [],
   "source": [
    "# Checking where we are\n",
    "import os\n"
   ]
  },
  {
   "cell_type": "code",
   "execution_count": 11,
   "metadata": {},
   "outputs": [
    {
     "name": "stdout",
     "output_type": "stream",
     "text": [
      "Agilent_FTIR_Known_Dataset.csv  RNAUVvis22Train_II.csv\n",
      "flu_train_003_for_nivedh.csv\n"
     ]
    }
   ],
   "source": [
    "ls data_sheets/"
   ]
  },
  {
   "cell_type": "code",
   "execution_count": 20,
   "metadata": {},
   "outputs": [
    {
     "data": {
      "text/html": [
       "<div>\n",
       "<style scoped>\n",
       "    .dataframe tbody tr th:only-of-type {\n",
       "        vertical-align: middle;\n",
       "    }\n",
       "\n",
       "    .dataframe tbody tr th {\n",
       "        vertical-align: top;\n",
       "    }\n",
       "\n",
       "    .dataframe thead th {\n",
       "        text-align: right;\n",
       "    }\n",
       "</style>\n",
       "<table border=\"1\" class=\"dataframe\">\n",
       "  <thead>\n",
       "    <tr style=\"text-align: right;\">\n",
       "      <th></th>\n",
       "      <th>Chem</th>\n",
       "      <th>220</th>\n",
       "      <th>223</th>\n",
       "      <th>226</th>\n",
       "      <th>229</th>\n",
       "      <th>232</th>\n",
       "      <th>235</th>\n",
       "      <th>238</th>\n",
       "      <th>241</th>\n",
       "      <th>244</th>\n",
       "      <th>...</th>\n",
       "      <th>721</th>\n",
       "      <th>724</th>\n",
       "      <th>727</th>\n",
       "      <th>730</th>\n",
       "      <th>733</th>\n",
       "      <th>736</th>\n",
       "      <th>739</th>\n",
       "      <th>742</th>\n",
       "      <th>745</th>\n",
       "      <th>748</th>\n",
       "    </tr>\n",
       "  </thead>\n",
       "  <tbody>\n",
       "    <tr>\n",
       "      <th>0</th>\n",
       "      <td>rna</td>\n",
       "      <td>0.138</td>\n",
       "      <td>0.137</td>\n",
       "      <td>0.118</td>\n",
       "      <td>0.107</td>\n",
       "      <td>0.097</td>\n",
       "      <td>0.083</td>\n",
       "      <td>0.081</td>\n",
       "      <td>0.083</td>\n",
       "      <td>0.089</td>\n",
       "      <td>...</td>\n",
       "      <td>0.001</td>\n",
       "      <td>0.003</td>\n",
       "      <td>0.002</td>\n",
       "      <td>0.000</td>\n",
       "      <td>-0.001</td>\n",
       "      <td>0.002</td>\n",
       "      <td>0.011</td>\n",
       "      <td>0.008</td>\n",
       "      <td>0.006</td>\n",
       "      <td>0.007</td>\n",
       "    </tr>\n",
       "    <tr>\n",
       "      <th>1</th>\n",
       "      <td>rna</td>\n",
       "      <td>0.152</td>\n",
       "      <td>0.141</td>\n",
       "      <td>0.124</td>\n",
       "      <td>0.108</td>\n",
       "      <td>0.098</td>\n",
       "      <td>0.086</td>\n",
       "      <td>0.081</td>\n",
       "      <td>0.084</td>\n",
       "      <td>0.090</td>\n",
       "      <td>...</td>\n",
       "      <td>0.003</td>\n",
       "      <td>0.004</td>\n",
       "      <td>0.002</td>\n",
       "      <td>0.001</td>\n",
       "      <td>-0.002</td>\n",
       "      <td>0.000</td>\n",
       "      <td>0.013</td>\n",
       "      <td>0.006</td>\n",
       "      <td>0.003</td>\n",
       "      <td>0.009</td>\n",
       "    </tr>\n",
       "    <tr>\n",
       "      <th>2</th>\n",
       "      <td>rna</td>\n",
       "      <td>0.147</td>\n",
       "      <td>0.135</td>\n",
       "      <td>0.125</td>\n",
       "      <td>0.114</td>\n",
       "      <td>0.102</td>\n",
       "      <td>0.089</td>\n",
       "      <td>0.087</td>\n",
       "      <td>0.089</td>\n",
       "      <td>0.094</td>\n",
       "      <td>...</td>\n",
       "      <td>0.004</td>\n",
       "      <td>0.004</td>\n",
       "      <td>0.005</td>\n",
       "      <td>0.002</td>\n",
       "      <td>-0.002</td>\n",
       "      <td>0.003</td>\n",
       "      <td>0.014</td>\n",
       "      <td>0.012</td>\n",
       "      <td>0.005</td>\n",
       "      <td>0.006</td>\n",
       "    </tr>\n",
       "    <tr>\n",
       "      <th>3</th>\n",
       "      <td>rna</td>\n",
       "      <td>0.162</td>\n",
       "      <td>0.152</td>\n",
       "      <td>0.126</td>\n",
       "      <td>0.112</td>\n",
       "      <td>0.102</td>\n",
       "      <td>0.088</td>\n",
       "      <td>0.086</td>\n",
       "      <td>0.088</td>\n",
       "      <td>0.093</td>\n",
       "      <td>...</td>\n",
       "      <td>0.003</td>\n",
       "      <td>0.004</td>\n",
       "      <td>0.003</td>\n",
       "      <td>0.001</td>\n",
       "      <td>-0.001</td>\n",
       "      <td>0.003</td>\n",
       "      <td>0.011</td>\n",
       "      <td>0.008</td>\n",
       "      <td>0.007</td>\n",
       "      <td>0.007</td>\n",
       "    </tr>\n",
       "    <tr>\n",
       "      <th>4</th>\n",
       "      <td>rna</td>\n",
       "      <td>0.113</td>\n",
       "      <td>0.110</td>\n",
       "      <td>0.095</td>\n",
       "      <td>0.086</td>\n",
       "      <td>0.076</td>\n",
       "      <td>0.064</td>\n",
       "      <td>0.058</td>\n",
       "      <td>0.057</td>\n",
       "      <td>0.059</td>\n",
       "      <td>...</td>\n",
       "      <td>0.000</td>\n",
       "      <td>0.000</td>\n",
       "      <td>0.001</td>\n",
       "      <td>-0.001</td>\n",
       "      <td>-0.002</td>\n",
       "      <td>0.001</td>\n",
       "      <td>0.013</td>\n",
       "      <td>0.007</td>\n",
       "      <td>0.002</td>\n",
       "      <td>0.001</td>\n",
       "    </tr>\n",
       "  </tbody>\n",
       "</table>\n",
       "<p>5 rows × 178 columns</p>\n",
       "</div>"
      ],
      "text/plain": [
       "  Chem    220    223    226    229    232    235    238    241    244  ...  \\\n",
       "0  rna  0.138  0.137  0.118  0.107  0.097  0.083  0.081  0.083  0.089  ...   \n",
       "1  rna  0.152  0.141  0.124  0.108  0.098  0.086  0.081  0.084  0.090  ...   \n",
       "2  rna  0.147  0.135  0.125  0.114  0.102  0.089  0.087  0.089  0.094  ...   \n",
       "3  rna  0.162  0.152  0.126  0.112  0.102  0.088  0.086  0.088  0.093  ...   \n",
       "4  rna  0.113  0.110  0.095  0.086  0.076  0.064  0.058  0.057  0.059  ...   \n",
       "\n",
       "     721    724    727    730    733    736    739    742    745    748  \n",
       "0  0.001  0.003  0.002  0.000 -0.001  0.002  0.011  0.008  0.006  0.007  \n",
       "1  0.003  0.004  0.002  0.001 -0.002  0.000  0.013  0.006  0.003  0.009  \n",
       "2  0.004  0.004  0.005  0.002 -0.002  0.003  0.014  0.012  0.005  0.006  \n",
       "3  0.003  0.004  0.003  0.001 -0.001  0.003  0.011  0.008  0.007  0.007  \n",
       "4  0.000  0.000  0.001 -0.001 -0.002  0.001  0.013  0.007  0.002  0.001  \n",
       "\n",
       "[5 rows x 178 columns]"
      ]
     },
     "execution_count": 20,
     "metadata": {},
     "output_type": "execute_result"
    }
   ],
   "source": [
    "# load data table\n",
    "rnauvvis22train_II = pd.read_csv(\"data_sheets/RNAUVvis22Train_II.csv\")\n",
    "rnauvvis22train_II.head()"
   ]
  },
  {
   "cell_type": "code",
   "execution_count": 21,
   "metadata": {},
   "outputs": [
    {
     "data": {
      "text/plain": [
       "127"
      ]
     },
     "execution_count": 21,
     "metadata": {},
     "output_type": "execute_result"
    }
   ],
   "source": [
    "# add to database as table\n",
    "rnauvvis22train_II.to_sql('rnauvvis22train_ii', up_ld.engine, if_exists='replace')"
   ]
  },
  {
   "cell_type": "code",
   "execution_count": 22,
   "metadata": {},
   "outputs": [
    {
     "data": {
      "text/plain": [
       "['rnauvvis22train_II', 'rnauvvis22train_ii']"
      ]
     },
     "execution_count": 22,
     "metadata": {},
     "output_type": "execute_result"
    }
   ],
   "source": [
    "from sqlalchemy import inspect\n",
    "inspector = inspect(up_ld.engine)\n",
    "inspector.get_table_names()\n"
   ]
  },
  {
   "cell_type": "code",
   "execution_count": 16,
   "metadata": {},
   "outputs": [],
   "source": [
    "# This does not work???\n",
    "up_ld.engine.dispose()"
   ]
  },
  {
   "cell_type": "code",
   "execution_count": null,
   "metadata": {},
   "outputs": [],
   "source": []
  }
 ],
 "metadata": {
  "kernelspec": {
   "display_name": "Python 3 (ipykernel)",
   "language": "python",
   "name": "python3"
  },
  "language_info": {
   "codemirror_mode": {
    "name": "ipython",
    "version": 3
   },
   "file_extension": ".py",
   "mimetype": "text/x-python",
   "name": "python",
   "nbconvert_exporter": "python",
   "pygments_lexer": "ipython3",
   "version": "3.10.6"
  }
 },
 "nbformat": 4,
 "nbformat_minor": 2
}
